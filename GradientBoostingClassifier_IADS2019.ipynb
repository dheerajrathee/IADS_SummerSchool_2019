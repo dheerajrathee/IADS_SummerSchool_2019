{
  "nbformat": 4,
  "nbformat_minor": 0,
  "metadata": {
    "colab": {
      "name": "GradientBoostingClassifier-IADS2019.ipynb",
      "version": "0.3.2",
      "provenance": [],
      "collapsed_sections": [],
      "include_colab_link": true
    },
    "kernelspec": {
      "name": "python3",
      "display_name": "Python 3"
    },
    "accelerator": "GPU"
  },
  "cells": [
    {
      "cell_type": "markdown",
      "metadata": {
        "id": "view-in-github",
        "colab_type": "text"
      },
      "source": [
        "<a href=\"https://colab.research.google.com/github/dheerajrathee/IADS_SummerSchool_2019/blob/master/GradientBoostingClassifier_IADS2019.ipynb\" target=\"_parent\"><img src=\"https://colab.research.google.com/assets/colab-badge.svg\" alt=\"Open In Colab\"/></a>"
      ]
    },
    {
      "cell_type": "code",
      "metadata": {
        "id": "DPBHwNGVpbPq",
        "colab_type": "code",
        "colab": {
          "base_uri": "https://localhost:8080/",
          "height": 68
        },
        "outputId": "f02203de-9b12-4a30-e817-b5b071a93d1f"
      },
      "source": [
        "from google.colab import drive\n",
        "drive.mount('/gdrive')\n",
        "%cd /gdrive/My Drive/IADS-2019-Tree-Codes\n",
        "!pwd"
      ],
      "execution_count": 2,
      "outputs": [
        {
          "output_type": "stream",
          "text": [
            "Drive already mounted at /gdrive; to attempt to forcibly remount, call drive.mount(\"/gdrive\", force_remount=True).\n",
            "/gdrive/My Drive/IADS-2019-Tree-Codes\n",
            "/gdrive/My Drive/IADS-2019-Tree-Codes\n"
          ],
          "name": "stdout"
        }
      ]
    },
    {
      "cell_type": "markdown",
      "metadata": {
        "id": "ev6gbXGYfLfp",
        "colab_type": "text"
      },
      "source": [
        "# **Gradient Boosting for Classification**\n",
        "## 1. IRIS Data\n",
        "\n",
        "\n",
        "\n",
        "\n"
      ]
    },
    {
      "cell_type": "markdown",
      "metadata": {
        "id": "06YtVCBqkbf5",
        "colab_type": "text"
      },
      "source": [
        "# 1. IRIS DATA\n"
      ]
    },
    {
      "cell_type": "markdown",
      "metadata": {
        "id": "0jWOszUoksPX",
        "colab_type": "text"
      },
      "source": [
        "## Dataset for Classification\n",
        "\n",
        "\n",
        "\n",
        "\n",
        "> **Dataset:**  [Iris dataset](https://scikit-learn.org/stable/datasets/index.html#iris-dataset).\n",
        "\n",
        "\n",
        "\n",
        "*   **Number of Instances:** \n",
        "    *   150 (50 in each of three classes)\n",
        "*   **Number of Attributes:**\n",
        "    *   4 numeric, predictive attributes and the class\n",
        "\n",
        "*   **Attribute Information:**\n",
        "    *   sepal length in cm\n",
        "    *   sepal width in cm\n",
        "    *   petal length in cm\n",
        "    *   petal width in cm\n",
        "\n",
        "*   **Classes:**\n",
        "    *   Setosa (0)\n",
        "    *   Versicolour (1)\n",
        "    *   Virginica (2)\n",
        "    \n",
        "\n",
        "\n",
        "\n",
        "\n"
      ]
    },
    {
      "cell_type": "code",
      "metadata": {
        "id": "XhWxdDXGfa_Y",
        "colab_type": "code",
        "colab": {}
      },
      "source": [
        "# Add liberaries \n",
        "from sklearn import datasets  # DATA\n",
        "from sklearn.model_selection import train_test_split # to Split Train-Test data\n",
        "from sklearn import ensemble # To get Gradient Boosting classifier \n",
        "from sklearn import metrics # To generate evaluation metrices\n",
        "from sklearn.model_selection import cross_val_predict\n",
        "from sklearn.model_selection import cross_val_score\n",
        "\n",
        "\n",
        "from sklearn.tree import export_graphviz # exporting the tree structure as dot file\n",
        "from pydotplus.graphviz import graph_from_dot_data # export png image from dot file\n",
        "from IPython.display import Image, SVG # Show the image within colab notebook\n",
        "from graphviz import Source\n",
        "import matplotlib.pyplot as plt\n",
        "\n",
        "\n",
        "import pandas as pd # for basic data manipulations \n",
        "import numpy as np\n",
        "\n"
      ],
      "execution_count": 0,
      "outputs": []
    },
    {
      "cell_type": "markdown",
      "metadata": {
        "id": "PVvhtZmzgZt6",
        "colab_type": "text"
      },
      "source": [
        "### 1. Load Data"
      ]
    },
    {
      "cell_type": "code",
      "metadata": {
        "id": "2Ouc794ShFCX",
        "colab_type": "code",
        "colab": {}
      },
      "source": [
        "#load data and see meta info\n",
        "iris = datasets.load_iris()\n",
        "dir(iris)"
      ],
      "execution_count": 0,
      "outputs": []
    },
    {
      "cell_type": "markdown",
      "metadata": {
        "id": "jn5ALWzlg5v_",
        "colab_type": "text"
      },
      "source": [
        "### 2. Explore Data\n"
      ]
    },
    {
      "cell_type": "code",
      "metadata": {
        "id": "k6uvmutxjMWx",
        "colab_type": "code",
        "colab": {}
      },
      "source": [
        "# print type and shape of data\n",
        "print(type(iris.data))\n",
        "print(type(iris.target))\n",
        "\n",
        "print(iris.data.shape)\n",
        "print(iris.target.shape)"
      ],
      "execution_count": 0,
      "outputs": []
    },
    {
      "cell_type": "markdown",
      "metadata": {
        "id": "PWK8ExaZieM9",
        "colab_type": "text"
      },
      "source": [
        "### 3. Create Panda Dataframe and do data manipulations"
      ]
    },
    {
      "cell_type": "code",
      "metadata": {
        "id": "M8GXIW8bhdyn",
        "colab_type": "code",
        "colab": {}
      },
      "source": [
        "dfCls = pd.DataFrame(iris.data, columns=iris.feature_names)\n",
        "dfCls.head()"
      ],
      "execution_count": 0,
      "outputs": []
    },
    {
      "cell_type": "code",
      "metadata": {
        "id": "OAUu50i_hk8P",
        "colab_type": "code",
        "colab": {}
      },
      "source": [
        "# Add target data to the panda dataframe\n",
        "dfCls['target'] = iris.target\n",
        "dfCls.head()"
      ],
      "execution_count": 0,
      "outputs": []
    },
    {
      "cell_type": "markdown",
      "metadata": {
        "id": "92JNHnFqiwq-",
        "colab_type": "text"
      },
      "source": [
        "### 4. Split the data for Training and Testing"
      ]
    },
    {
      "cell_type": "code",
      "metadata": {
        "id": "ac89rgVlkDHA",
        "colab_type": "code",
        "colab": {}
      },
      "source": [
        "X_train, X_test, y_train, y_test = train_test_split(dfCls.drop(['target'],axis='columns'), iris.target, test_size=0.2,random_state=0, stratify=iris.target)\n",
        "print(X_train.shape)\n",
        "print(X_test.shape)"
      ],
      "execution_count": 0,
      "outputs": []
    },
    {
      "cell_type": "markdown",
      "metadata": {
        "id": "WmFoeacki95Y",
        "colab_type": "text"
      },
      "source": [
        "### 5. Initialise a Gradient Boosting Classifier"
      ]
    },
    {
      "cell_type": "code",
      "metadata": {
        "id": "qmsuBza6lba-",
        "colab_type": "code",
        "colab": {}
      },
      "source": [
        "gbClassifier = ensemble.GradientBoostingClassifier(criterion='friedman_mse', init=None,\n",
        "                           learning_rate=0.1, loss='deviance', max_depth=3,\n",
        "                           max_features=None, max_leaf_nodes=None,\n",
        "                           min_impurity_decrease=0.0, min_impurity_split=None,\n",
        "                           min_samples_leaf=1, min_samples_split=2,\n",
        "                           min_weight_fraction_leaf=0.0, n_estimators=500,\n",
        "                           n_iter_no_change=None, presort='auto',\n",
        "                           random_state=0, subsample=1.0, tol=0.0001,\n",
        "                           validation_fraction=0.1, verbose=0,\n",
        "                           warm_start=False)"
      ],
      "execution_count": 0,
      "outputs": []
    },
    {
      "cell_type": "markdown",
      "metadata": {
        "id": "gY8sN-mo4Ztn",
        "colab_type": "text"
      },
      "source": [
        "\n",
        "\n",
        "> ***Let's dig into*** **[tree.GradientBoostingClassifier](https://scikit-learn.org/stable/modules/generated/sklearn.ensemble.GradientBoostingClassifier.html#sklearn.ensemble.GradientBoostingClassifier)**\n",
        "\n",
        "\n"
      ]
    },
    {
      "cell_type": "markdown",
      "metadata": {
        "id": "2LZ65_P4CuiZ",
        "colab_type": "text"
      },
      "source": [
        "### 6. Model Evaluation on Train data"
      ]
    },
    {
      "cell_type": "code",
      "metadata": {
        "id": "nbphECGHXQTg",
        "colab_type": "code",
        "colab": {}
      },
      "source": [
        "#perform 10 fold cross validation and plot the CM\n",
        "CV_predicted = cross_val_predict(gbClassifier, X_train, y_train, cv=10) #CV predicted values (training data)\n",
        "CV_score = cross_val_score(gbClassifier, X_train, y_train, cv=10) #CV model score (training data)\n",
        "\n",
        "print(\"Cross validation Score on train data: \",CV_score.mean())\n",
        "print(\"\\n\")\n",
        "\n",
        "print(\"Confusion matrix on CV predictions (train data)\")\n",
        "print(metrics.confusion_matrix(y_train, CV_predicted)) # confusion matrix on CV predictions (train data)\n",
        "print(\"\\n\")\n",
        "\n",
        "print(\"Classification report CV predictions (train data)\")\n",
        "print(metrics.classification_report(y_train, CV_predicted, target_names=['Setosa', 'Versicolor', 'Virginica'])) # classification report CV predictions (train data)\n"
      ],
      "execution_count": 0,
      "outputs": []
    },
    {
      "cell_type": "markdown",
      "metadata": {
        "id": "0FHoUgZGjHSo",
        "colab_type": "text"
      },
      "source": [
        "### 7. Let's fit the GB model on Training data and perform prediction with the Test data "
      ]
    },
    {
      "cell_type": "code",
      "metadata": {
        "id": "9afkTHSwlh-y",
        "colab_type": "code",
        "colab": {}
      },
      "source": [
        "gbClassMdl = gbClassifier.fit(X_train,y_train)\n",
        "\n",
        "y_predicted = gbClassMdl.predict(X_test)"
      ],
      "execution_count": 0,
      "outputs": []
    },
    {
      "cell_type": "markdown",
      "metadata": {
        "id": "TcorWrwVjlr_",
        "colab_type": "text"
      },
      "source": [
        "### 8. Model Evaluation on Test Data"
      ]
    },
    {
      "cell_type": "code",
      "metadata": {
        "id": "fgGWc9H3lpbO",
        "colab_type": "code",
        "colab": {}
      },
      "source": [
        "mdl_score = gbClassMdl.score(X_test,y_test) #model score (test data)\n",
        "print (\"Model Score on test data:\",mdl_score)\n",
        "print(\"\\n\")\n",
        "\n",
        "print(\"Confusion matrix (test data)\")\n",
        "print(metrics.confusion_matrix(y_test, y_predicted)) #confusion matrix (test data)\n",
        "print(\"\\n\")\n",
        "\n",
        "print(\"Classification report (test data)\")\n",
        "print(metrics.classification_report(y_test, y_predicted, target_names=['Setosa', 'Versicolor', 'Virginica'])) # classification report (test data)"
      ],
      "execution_count": 0,
      "outputs": []
    },
    {
      "cell_type": "markdown",
      "metadata": {
        "id": "qoriwm0kj8m_",
        "colab_type": "text"
      },
      "source": [
        "# 2. Mushroom Classification Data (Kaggle)\n",
        "[See further details](https://www.kaggle.com/uciml/mushroom-classification)\n",
        "\n"
      ]
    },
    {
      "cell_type": "markdown",
      "metadata": {
        "id": "x9vaKq9KzQs8",
        "colab_type": "text"
      },
      "source": [
        "### 1. Load Data"
      ]
    },
    {
      "cell_type": "code",
      "metadata": {
        "id": "dU0Lpbahoidk",
        "colab_type": "code",
        "colab": {}
      },
      "source": [
        "#load data from local drive\n",
        "mushData = pd.read_csv('mushrooms.csv')"
      ],
      "execution_count": 0,
      "outputs": []
    },
    {
      "cell_type": "markdown",
      "metadata": {
        "id": "yP5FXsDnzUzt",
        "colab_type": "text"
      },
      "source": [
        "### 2. Explore Data"
      ]
    },
    {
      "cell_type": "code",
      "metadata": {
        "id": "pODrVlCbpgGq",
        "colab_type": "code",
        "colab": {
          "base_uri": "https://localhost:8080/",
          "height": 238
        },
        "outputId": "30ae01cb-7abd-4624-e2f7-60eb071d13e4"
      },
      "source": [
        "#print first five rows of the data\n",
        "mushData.head()"
      ],
      "execution_count": 77,
      "outputs": [
        {
          "output_type": "execute_result",
          "data": {
            "text/html": [
              "<div>\n",
              "<style scoped>\n",
              "    .dataframe tbody tr th:only-of-type {\n",
              "        vertical-align: middle;\n",
              "    }\n",
              "\n",
              "    .dataframe tbody tr th {\n",
              "        vertical-align: top;\n",
              "    }\n",
              "\n",
              "    .dataframe thead th {\n",
              "        text-align: right;\n",
              "    }\n",
              "</style>\n",
              "<table border=\"1\" class=\"dataframe\">\n",
              "  <thead>\n",
              "    <tr style=\"text-align: right;\">\n",
              "      <th></th>\n",
              "      <th>class</th>\n",
              "      <th>cap-shape</th>\n",
              "      <th>cap-surface</th>\n",
              "      <th>cap-color</th>\n",
              "      <th>bruises</th>\n",
              "      <th>odor</th>\n",
              "      <th>gill-attachment</th>\n",
              "      <th>gill-spacing</th>\n",
              "      <th>gill-size</th>\n",
              "      <th>gill-color</th>\n",
              "      <th>stalk-shape</th>\n",
              "      <th>stalk-root</th>\n",
              "      <th>stalk-surface-above-ring</th>\n",
              "      <th>stalk-surface-below-ring</th>\n",
              "      <th>stalk-color-above-ring</th>\n",
              "      <th>stalk-color-below-ring</th>\n",
              "      <th>veil-type</th>\n",
              "      <th>veil-color</th>\n",
              "      <th>ring-number</th>\n",
              "      <th>ring-type</th>\n",
              "      <th>spore-print-color</th>\n",
              "      <th>population</th>\n",
              "      <th>habitat</th>\n",
              "    </tr>\n",
              "  </thead>\n",
              "  <tbody>\n",
              "    <tr>\n",
              "      <th>0</th>\n",
              "      <td>p</td>\n",
              "      <td>x</td>\n",
              "      <td>s</td>\n",
              "      <td>n</td>\n",
              "      <td>t</td>\n",
              "      <td>p</td>\n",
              "      <td>f</td>\n",
              "      <td>c</td>\n",
              "      <td>n</td>\n",
              "      <td>k</td>\n",
              "      <td>e</td>\n",
              "      <td>e</td>\n",
              "      <td>s</td>\n",
              "      <td>s</td>\n",
              "      <td>w</td>\n",
              "      <td>w</td>\n",
              "      <td>p</td>\n",
              "      <td>w</td>\n",
              "      <td>o</td>\n",
              "      <td>p</td>\n",
              "      <td>k</td>\n",
              "      <td>s</td>\n",
              "      <td>u</td>\n",
              "    </tr>\n",
              "    <tr>\n",
              "      <th>1</th>\n",
              "      <td>e</td>\n",
              "      <td>x</td>\n",
              "      <td>s</td>\n",
              "      <td>y</td>\n",
              "      <td>t</td>\n",
              "      <td>a</td>\n",
              "      <td>f</td>\n",
              "      <td>c</td>\n",
              "      <td>b</td>\n",
              "      <td>k</td>\n",
              "      <td>e</td>\n",
              "      <td>c</td>\n",
              "      <td>s</td>\n",
              "      <td>s</td>\n",
              "      <td>w</td>\n",
              "      <td>w</td>\n",
              "      <td>p</td>\n",
              "      <td>w</td>\n",
              "      <td>o</td>\n",
              "      <td>p</td>\n",
              "      <td>n</td>\n",
              "      <td>n</td>\n",
              "      <td>g</td>\n",
              "    </tr>\n",
              "    <tr>\n",
              "      <th>2</th>\n",
              "      <td>e</td>\n",
              "      <td>b</td>\n",
              "      <td>s</td>\n",
              "      <td>w</td>\n",
              "      <td>t</td>\n",
              "      <td>l</td>\n",
              "      <td>f</td>\n",
              "      <td>c</td>\n",
              "      <td>b</td>\n",
              "      <td>n</td>\n",
              "      <td>e</td>\n",
              "      <td>c</td>\n",
              "      <td>s</td>\n",
              "      <td>s</td>\n",
              "      <td>w</td>\n",
              "      <td>w</td>\n",
              "      <td>p</td>\n",
              "      <td>w</td>\n",
              "      <td>o</td>\n",
              "      <td>p</td>\n",
              "      <td>n</td>\n",
              "      <td>n</td>\n",
              "      <td>m</td>\n",
              "    </tr>\n",
              "    <tr>\n",
              "      <th>3</th>\n",
              "      <td>p</td>\n",
              "      <td>x</td>\n",
              "      <td>y</td>\n",
              "      <td>w</td>\n",
              "      <td>t</td>\n",
              "      <td>p</td>\n",
              "      <td>f</td>\n",
              "      <td>c</td>\n",
              "      <td>n</td>\n",
              "      <td>n</td>\n",
              "      <td>e</td>\n",
              "      <td>e</td>\n",
              "      <td>s</td>\n",
              "      <td>s</td>\n",
              "      <td>w</td>\n",
              "      <td>w</td>\n",
              "      <td>p</td>\n",
              "      <td>w</td>\n",
              "      <td>o</td>\n",
              "      <td>p</td>\n",
              "      <td>k</td>\n",
              "      <td>s</td>\n",
              "      <td>u</td>\n",
              "    </tr>\n",
              "    <tr>\n",
              "      <th>4</th>\n",
              "      <td>e</td>\n",
              "      <td>x</td>\n",
              "      <td>s</td>\n",
              "      <td>g</td>\n",
              "      <td>f</td>\n",
              "      <td>n</td>\n",
              "      <td>f</td>\n",
              "      <td>w</td>\n",
              "      <td>b</td>\n",
              "      <td>k</td>\n",
              "      <td>t</td>\n",
              "      <td>e</td>\n",
              "      <td>s</td>\n",
              "      <td>s</td>\n",
              "      <td>w</td>\n",
              "      <td>w</td>\n",
              "      <td>p</td>\n",
              "      <td>w</td>\n",
              "      <td>o</td>\n",
              "      <td>e</td>\n",
              "      <td>n</td>\n",
              "      <td>a</td>\n",
              "      <td>g</td>\n",
              "    </tr>\n",
              "  </tbody>\n",
              "</table>\n",
              "</div>"
            ],
            "text/plain": [
              "  class cap-shape cap-surface  ... spore-print-color population habitat\n",
              "0     p         x           s  ...                 k          s       u\n",
              "1     e         x           s  ...                 n          n       g\n",
              "2     e         b           s  ...                 n          n       m\n",
              "3     p         x           y  ...                 k          s       u\n",
              "4     e         x           s  ...                 n          a       g\n",
              "\n",
              "[5 rows x 23 columns]"
            ]
          },
          "metadata": {
            "tags": []
          },
          "execution_count": 77
        }
      ]
    },
    {
      "cell_type": "code",
      "metadata": {
        "id": "qnnjZR_vpi-S",
        "colab_type": "code",
        "colab": {
          "base_uri": "https://localhost:8080/",
          "height": 34
        },
        "outputId": "f87a7ea0-f0fd-4df3-eaaa-c9ee82897eb9"
      },
      "source": [
        "#print size of the data\n",
        "mushData.shape"
      ],
      "execution_count": 78,
      "outputs": [
        {
          "output_type": "execute_result",
          "data": {
            "text/plain": [
              "(8124, 23)"
            ]
          },
          "metadata": {
            "tags": []
          },
          "execution_count": 78
        }
      ]
    },
    {
      "cell_type": "code",
      "metadata": {
        "id": "SDU5nh8-pslP",
        "colab_type": "code",
        "colab": {
          "base_uri": "https://localhost:8080/",
          "height": 207
        },
        "outputId": "1dc89388-3e77-4374-fd85-1e2f5cd0c6e6"
      },
      "source": [
        "#print data attributes\n",
        "mushData.describe()"
      ],
      "execution_count": 7,
      "outputs": [
        {
          "output_type": "execute_result",
          "data": {
            "text/html": [
              "<div>\n",
              "<style scoped>\n",
              "    .dataframe tbody tr th:only-of-type {\n",
              "        vertical-align: middle;\n",
              "    }\n",
              "\n",
              "    .dataframe tbody tr th {\n",
              "        vertical-align: top;\n",
              "    }\n",
              "\n",
              "    .dataframe thead th {\n",
              "        text-align: right;\n",
              "    }\n",
              "</style>\n",
              "<table border=\"1\" class=\"dataframe\">\n",
              "  <thead>\n",
              "    <tr style=\"text-align: right;\">\n",
              "      <th></th>\n",
              "      <th>class</th>\n",
              "      <th>cap-shape</th>\n",
              "      <th>cap-surface</th>\n",
              "      <th>cap-color</th>\n",
              "      <th>bruises</th>\n",
              "      <th>odor</th>\n",
              "      <th>gill-attachment</th>\n",
              "      <th>gill-spacing</th>\n",
              "      <th>gill-size</th>\n",
              "      <th>gill-color</th>\n",
              "      <th>stalk-shape</th>\n",
              "      <th>stalk-root</th>\n",
              "      <th>stalk-surface-above-ring</th>\n",
              "      <th>stalk-surface-below-ring</th>\n",
              "      <th>stalk-color-above-ring</th>\n",
              "      <th>stalk-color-below-ring</th>\n",
              "      <th>veil-type</th>\n",
              "      <th>veil-color</th>\n",
              "      <th>ring-number</th>\n",
              "      <th>ring-type</th>\n",
              "      <th>spore-print-color</th>\n",
              "      <th>population</th>\n",
              "      <th>habitat</th>\n",
              "    </tr>\n",
              "  </thead>\n",
              "  <tbody>\n",
              "    <tr>\n",
              "      <th>count</th>\n",
              "      <td>8124</td>\n",
              "      <td>8124</td>\n",
              "      <td>8124</td>\n",
              "      <td>8124</td>\n",
              "      <td>8124</td>\n",
              "      <td>8124</td>\n",
              "      <td>8124</td>\n",
              "      <td>8124</td>\n",
              "      <td>8124</td>\n",
              "      <td>8124</td>\n",
              "      <td>8124</td>\n",
              "      <td>8124</td>\n",
              "      <td>8124</td>\n",
              "      <td>8124</td>\n",
              "      <td>8124</td>\n",
              "      <td>8124</td>\n",
              "      <td>8124</td>\n",
              "      <td>8124</td>\n",
              "      <td>8124</td>\n",
              "      <td>8124</td>\n",
              "      <td>8124</td>\n",
              "      <td>8124</td>\n",
              "      <td>8124</td>\n",
              "    </tr>\n",
              "    <tr>\n",
              "      <th>unique</th>\n",
              "      <td>2</td>\n",
              "      <td>6</td>\n",
              "      <td>4</td>\n",
              "      <td>10</td>\n",
              "      <td>2</td>\n",
              "      <td>9</td>\n",
              "      <td>2</td>\n",
              "      <td>2</td>\n",
              "      <td>2</td>\n",
              "      <td>12</td>\n",
              "      <td>2</td>\n",
              "      <td>5</td>\n",
              "      <td>4</td>\n",
              "      <td>4</td>\n",
              "      <td>9</td>\n",
              "      <td>9</td>\n",
              "      <td>1</td>\n",
              "      <td>4</td>\n",
              "      <td>3</td>\n",
              "      <td>5</td>\n",
              "      <td>9</td>\n",
              "      <td>6</td>\n",
              "      <td>7</td>\n",
              "    </tr>\n",
              "    <tr>\n",
              "      <th>top</th>\n",
              "      <td>e</td>\n",
              "      <td>x</td>\n",
              "      <td>y</td>\n",
              "      <td>n</td>\n",
              "      <td>f</td>\n",
              "      <td>n</td>\n",
              "      <td>f</td>\n",
              "      <td>c</td>\n",
              "      <td>b</td>\n",
              "      <td>b</td>\n",
              "      <td>t</td>\n",
              "      <td>b</td>\n",
              "      <td>s</td>\n",
              "      <td>s</td>\n",
              "      <td>w</td>\n",
              "      <td>w</td>\n",
              "      <td>p</td>\n",
              "      <td>w</td>\n",
              "      <td>o</td>\n",
              "      <td>p</td>\n",
              "      <td>w</td>\n",
              "      <td>v</td>\n",
              "      <td>d</td>\n",
              "    </tr>\n",
              "    <tr>\n",
              "      <th>freq</th>\n",
              "      <td>4208</td>\n",
              "      <td>3656</td>\n",
              "      <td>3244</td>\n",
              "      <td>2284</td>\n",
              "      <td>4748</td>\n",
              "      <td>3528</td>\n",
              "      <td>7914</td>\n",
              "      <td>6812</td>\n",
              "      <td>5612</td>\n",
              "      <td>1728</td>\n",
              "      <td>4608</td>\n",
              "      <td>3776</td>\n",
              "      <td>5176</td>\n",
              "      <td>4936</td>\n",
              "      <td>4464</td>\n",
              "      <td>4384</td>\n",
              "      <td>8124</td>\n",
              "      <td>7924</td>\n",
              "      <td>7488</td>\n",
              "      <td>3968</td>\n",
              "      <td>2388</td>\n",
              "      <td>4040</td>\n",
              "      <td>3148</td>\n",
              "    </tr>\n",
              "  </tbody>\n",
              "</table>\n",
              "</div>"
            ],
            "text/plain": [
              "       class cap-shape cap-surface  ... spore-print-color population habitat\n",
              "count   8124      8124        8124  ...              8124       8124    8124\n",
              "unique     2         6           4  ...                 9          6       7\n",
              "top        e         x           y  ...                 w          v       d\n",
              "freq    4208      3656        3244  ...              2388       4040    3148\n",
              "\n",
              "[4 rows x 23 columns]"
            ]
          },
          "metadata": {
            "tags": []
          },
          "execution_count": 7
        }
      ]
    },
    {
      "cell_type": "code",
      "metadata": {
        "id": "QCAVHjN1qECl",
        "colab_type": "code",
        "colab": {
          "base_uri": "https://localhost:8080/",
          "height": 493
        },
        "outputId": "a4f26529-f320-49be-eca1-54d0ef7ba6c9"
      },
      "source": [
        "#print key informations about the data\n",
        "mushData.info()\n"
      ],
      "execution_count": 8,
      "outputs": [
        {
          "output_type": "stream",
          "text": [
            "<class 'pandas.core.frame.DataFrame'>\n",
            "RangeIndex: 8124 entries, 0 to 8123\n",
            "Data columns (total 23 columns):\n",
            "class                       8124 non-null object\n",
            "cap-shape                   8124 non-null object\n",
            "cap-surface                 8124 non-null object\n",
            "cap-color                   8124 non-null object\n",
            "bruises                     8124 non-null object\n",
            "odor                        8124 non-null object\n",
            "gill-attachment             8124 non-null object\n",
            "gill-spacing                8124 non-null object\n",
            "gill-size                   8124 non-null object\n",
            "gill-color                  8124 non-null object\n",
            "stalk-shape                 8124 non-null object\n",
            "stalk-root                  8124 non-null object\n",
            "stalk-surface-above-ring    8124 non-null object\n",
            "stalk-surface-below-ring    8124 non-null object\n",
            "stalk-color-above-ring      8124 non-null object\n",
            "stalk-color-below-ring      8124 non-null object\n",
            "veil-type                   8124 non-null object\n",
            "veil-color                  8124 non-null object\n",
            "ring-number                 8124 non-null object\n",
            "ring-type                   8124 non-null object\n",
            "spore-print-color           8124 non-null object\n",
            "population                  8124 non-null object\n",
            "habitat                     8124 non-null object\n",
            "dtypes: object(23)\n",
            "memory usage: 1.4+ MB\n"
          ],
          "name": "stdout"
        }
      ]
    },
    {
      "cell_type": "code",
      "metadata": {
        "id": "uV20UVtgqH6d",
        "colab_type": "code",
        "colab": {
          "base_uri": "https://localhost:8080/",
          "height": 68
        },
        "outputId": "66d8dc8c-6303-45ed-d8e4-247d5d17f74c"
      },
      "source": [
        "#Chack the class balance\n",
        "mushData['class'].value_counts()"
      ],
      "execution_count": 79,
      "outputs": [
        {
          "output_type": "execute_result",
          "data": {
            "text/plain": [
              "e    4208\n",
              "p    3916\n",
              "Name: class, dtype: int64"
            ]
          },
          "metadata": {
            "tags": []
          },
          "execution_count": 79
        }
      ]
    },
    {
      "cell_type": "markdown",
      "metadata": {
        "id": "J1kuqK2zzcWk",
        "colab_type": "text"
      },
      "source": [
        "### 3. Perform data manipulations"
      ]
    },
    {
      "cell_type": "code",
      "metadata": {
        "id": "s7t4VLOO2Xvl",
        "colab_type": "code",
        "colab": {}
      },
      "source": [
        "from sklearn.preprocessing import LabelEncoder #print first five rows of the data\n",
        "labelencoder=LabelEncoder()\n",
        "for col in mushData.columns:\n",
        "    mushData[col] = labelencoder.fit_transform(mushData[col]) #Transform categrical data to numerical data\n",
        " \n",
        "mushData.head()"
      ],
      "execution_count": 0,
      "outputs": []
    },
    {
      "cell_type": "code",
      "metadata": {
        "id": "lnjbPfJi2lJk",
        "colab_type": "code",
        "colab": {}
      },
      "source": [
        "mushData.describe()"
      ],
      "execution_count": 0,
      "outputs": []
    },
    {
      "cell_type": "code",
      "metadata": {
        "id": "tNDVzuKGtG8_",
        "colab_type": "code",
        "colab": {}
      },
      "source": [
        "target = mushData['class'] #get the labels as targets and convert to numpy array\n",
        "np.array(target, dtype=pd.Series)"
      ],
      "execution_count": 0,
      "outputs": []
    },
    {
      "cell_type": "markdown",
      "metadata": {
        "id": "w1-uVK7czt0P",
        "colab_type": "text"
      },
      "source": [
        "### 4. Split the data for Training and Testing"
      ]
    },
    {
      "cell_type": "code",
      "metadata": {
        "id": "Iu62uj3PsFNb",
        "colab_type": "code",
        "colab": {}
      },
      "source": [
        "X_train, X_test, y_train, y_test = train_test_split(mushData.drop(['class'],axis='columns'), target, test_size=0.2,random_state=123, stratify=target)\n",
        "print(X_train.shape)\n",
        "print(X_test.shape)"
      ],
      "execution_count": 0,
      "outputs": []
    },
    {
      "cell_type": "markdown",
      "metadata": {
        "id": "IgbEqqqazwhl",
        "colab_type": "text"
      },
      "source": [
        "### 5. Perform Grid search for getting the best parameters"
      ]
    },
    {
      "cell_type": "code",
      "metadata": {
        "id": "r8ybqhN7uHF9",
        "colab_type": "code",
        "colab": {}
      },
      "source": [
        "\n",
        "from sklearn.model_selection import GridSearchCV # get gridsearch with cross validation"
      ],
      "execution_count": 0,
      "outputs": []
    },
    {
      "cell_type": "code",
      "metadata": {
        "id": "mQZ9Ubu7uzoP",
        "colab_type": "code",
        "colab": {}
      },
      "source": [
        "#provide GB hyperparameters\n",
        "gb_hyperparameters = {\n",
        "    \"n_estimators\": [100, 200],\n",
        "    'learning_rate': [0.05, 0.1, 0.2],\n",
        "    'max_depth': [1, 3, 5]\n",
        "}\n",
        "\n",
        "nfolds = 10 #number of folds for CV\n",
        "gbClassifier = ensemble.GradientBoostingClassifier(random_state=123) #initialise GB classifier\n",
        "\n",
        "# create Grid search object\n",
        "gs_gb_clf = GridSearchCV(gbClassifier, gb_hyperparameters, \n",
        "                          n_jobs=1, cv=nfolds,\n",
        "                          scoring='accuracy')\n",
        "\n",
        "\n",
        "\n"
      ],
      "execution_count": 0,
      "outputs": []
    },
    {
      "cell_type": "code",
      "metadata": {
        "id": "IXj8tPOIu619",
        "colab_type": "code",
        "colab": {}
      },
      "source": [
        "gs_gb_clf.fit(X_train, y_train) #fit the grid search object"
      ],
      "execution_count": 0,
      "outputs": []
    },
    {
      "cell_type": "code",
      "metadata": {
        "id": "Ttkxn7V32tIG",
        "colab_type": "code",
        "colab": {}
      },
      "source": [
        "print(gs_gb_clf.best_score_)\n",
        "print(gs_gb_clf.best_params_)"
      ],
      "execution_count": 0,
      "outputs": []
    },
    {
      "cell_type": "code",
      "metadata": {
        "id": "1qVzXKkG4f3N",
        "colab_type": "code",
        "colab": {}
      },
      "source": [
        "best_parameters_gs = gs_gb_clf.best_params_ #get the best parameters based on 10x CV grid search"
      ],
      "execution_count": 0,
      "outputs": []
    },
    {
      "cell_type": "markdown",
      "metadata": {
        "id": "pUDuVHKO0TCl",
        "colab_type": "text"
      },
      "source": [
        "### 6. Initialise a Gradient Boosting Classifier"
      ]
    },
    {
      "cell_type": "code",
      "metadata": {
        "id": "_vG15dlk5GoQ",
        "colab_type": "code",
        "colab": {}
      },
      "source": [
        "gbClassifier_best = ensemble.GradientBoostingClassifier(**best_parameters_gs) #intialise GB classifier with best set of parameters\n"
      ],
      "execution_count": 0,
      "outputs": []
    },
    {
      "cell_type": "markdown",
      "metadata": {
        "id": "AWlhb5gy0c4V",
        "colab_type": "text"
      },
      "source": [
        "### 7. Model Evaluation on Train data"
      ]
    },
    {
      "cell_type": "code",
      "metadata": {
        "id": "lTWfunBa54Xo",
        "colab_type": "code",
        "colab": {}
      },
      "source": [
        "#perform 10 fold cross validation and plot the CM\n",
        "CV_predicted = cross_val_predict(gbClassifier_best, X_train, y_train, cv=10) #CV predicted values (training data)\n",
        "CV_score = cross_val_score(gbClassifier_best, X_train, y_train, cv=10) #CV model score (training data)\n",
        "\n",
        "print(\"Cross validation Score on train data: \",CV_score.mean())\n",
        "print(\"\\n\")\n",
        "\n",
        "print(\"Confusion matrix on CV predictions (train data)\")\n",
        "print(metrics.confusion_matrix(y_train, CV_predicted)) # confusion matrix on CV predictions (train data)\n",
        "print(\"\\n\")\n",
        "\n",
        "print(\"Classification report CV predictions (train data)\")\n",
        "print(metrics.classification_report(y_train, CV_predicted, target_names=['Poisonous', 'Edigble'])) # classification report CV predictions (train data)"
      ],
      "execution_count": 0,
      "outputs": []
    },
    {
      "cell_type": "markdown",
      "metadata": {
        "id": "ZrKQyUlq0g5_",
        "colab_type": "text"
      },
      "source": [
        "### 9. Model Evaluation on Test data"
      ]
    },
    {
      "cell_type": "code",
      "metadata": {
        "id": "_JUm3WFk6GTR",
        "colab_type": "code",
        "colab": {}
      },
      "source": [
        "gbClassifier_best_mdl= gbClassifier_best.fit(X_train, y_train) #fit the best GB classifier with training data\n",
        "\n",
        "y_predicted = gbClassifier_best_mdl.predict(X_test) #Predict the outcomes with best GB classifier for test data"
      ],
      "execution_count": 0,
      "outputs": []
    },
    {
      "cell_type": "code",
      "metadata": {
        "id": "Q5JcfDVM5zKu",
        "colab_type": "code",
        "colab": {}
      },
      "source": [
        "mdl_score = gbClassifier_best_mdl.score(X_test,y_test) #model score (test data)\n",
        "print (\"Model Score on test data:\",mdl_score)\n",
        "print(\"\\n\")\n",
        "\n",
        "print(\"Confusion matrix (test data)\")\n",
        "print(metrics.confusion_matrix(y_test, y_predicted)) #confusion matrix (test data)\n",
        "print(\"\\n\")\n",
        "\n",
        "print(\"Classification report (test data)\")\n",
        "print(metrics.classification_report(y_test, y_predicted, target_names=['Poisonous', 'Edigble'])) # classification report (test data)"
      ],
      "execution_count": 0,
      "outputs": []
    }
  ]
}